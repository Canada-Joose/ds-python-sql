{
 "cells": [
  {
   "cell_type": "markdown",
   "metadata": {},
   "source": [
    "# Python SQL Tutorial\n",
    "\n",
    "In this notebook, we will show you how to use Fugue SQL to work with SQL in a python environment. Fugue SQL is a SQL engine that can run on Spark, Dask, Ray, and Pandas. It is a SQL engine that is designed for data scientists and engineers and to be easy to use.\n",
    "It also allows us to convert a Jupyter code cell into a SQL cell with the jupyter magic command ```%%fsql```.\n",
    "\n",
    "DuckDB is an in-process SQL OLAP database management system. The speed is very good on even gigabytes of data on local machines. Fugue has a deep integration with DuckDB. Fugue not only uses DuckDB as the SQL engine, but also implemented all execution engine methods using DuckDB SQL and relations. So in most part of the workflow, the data tables are kept in DuckDB and in rare cases the tables will be materialized and converted to arrow dataframes. Note this blog explains that converting between DuckDB and Arrow has minimal overhead.\n",
    "\n",
    "In this notebook you will learn how to create tables and insert data into the created tables."
   ]
  },
  {
   "cell_type": "code",
   "execution_count": null,
   "metadata": {},
   "outputs": [],
   "source": [
    "\n",
    "import duckdb\n",
    "import pandas as pd\n",
    "import sqlalchemy\n",
    "import json\n",
    "from fugue_notebook import setup\n",
    "import fugue_duckdb\n",
    "\n",
    "setup()"
   ]
  },
  {
   "cell_type": "markdown",
   "metadata": {},
   "source": [
    "We have two csv files in our data directory:\n",
    "- raw_orders.csv\n",
    "- raw_payments.csv\n",
    "\n",
    "and a json file:\n",
    "- raw_customers.json\n",
    "\n",
    "\n",
    "We will use pandas to load the data first:"
   ]
  },
  {
   "cell_type": "code",
   "execution_count": null,
   "metadata": {},
   "outputs": [],
   "source": [
    "df_customers = pd.read_json('data/raw_customers.json', orient='records', lines=True)\n",
    "df_customers.head()"
   ]
  },
  {
   "cell_type": "code",
   "execution_count": null,
   "metadata": {},
   "outputs": [],
   "source": [
    "df_orders = pd.read_csv('data/raw_orders.csv')\n",
    "df_orders.head()"
   ]
  },
  {
   "cell_type": "code",
   "execution_count": null,
   "metadata": {},
   "outputs": [],
   "source": [
    "df_payment = pd.read_csv('data/raw_payments.csv')\n",
    "df_payment.head()"
   ]
  },
  {
   "cell_type": "markdown",
   "metadata": {},
   "source": [
    "But we could do the same with fugue."
   ]
  },
  {
   "cell_type": "code",
   "execution_count": null,
   "metadata": {},
   "outputs": [],
   "source": [
    "%%fsql duck\n",
    "\n",
    "raw_customers = LOAD \"data/raw_customers.json\"\n",
    "\n",
    "SELECT * FROM raw_customers\n",
    "PRINT"
   ]
  },
  {
   "cell_type": "code",
   "execution_count": null,
   "metadata": {},
   "outputs": [],
   "source": [
    "%%fsql duck\n",
    "\n",
    "raw_orders = LOAD \"data/raw_orders.csv\" (header = \"true\")\n",
    "\n",
    "SELECT * FROM raw_orders\n",
    "PRINT"
   ]
  },
  {
   "cell_type": "code",
   "execution_count": null,
   "metadata": {},
   "outputs": [],
   "source": [
    "%%fsql duck\n",
    "\n",
    "raw_payments = LOAD \"data/raw_payments.csv\" (header = \"true\")\n",
    "\n",
    "SELECT * FROM raw_payments\n",
    "\n",
    "PRINT"
   ]
  },
  {
   "cell_type": "markdown",
   "metadata": {},
   "source": [
    "Now we can have a look at some questions. For example the RFM (Recency, Frequency, and Monetary) questions that are relevant for analysing customer behaviour. Here we can either load the data again with fugue or combine pandas and fugue and use fugue on top of pandas dataframes.\n",
    "\n",
    "- When did the customers last purchase?"
   ]
  },
  {
   "cell_type": "markdown",
   "metadata": {},
   "source": [
    "First we will join the orders and the customers table to get the customers name and the order date in one table and save it in a dataframe ```df1```."
   ]
  },
  {
   "cell_type": "code",
   "execution_count": null,
   "metadata": {},
   "outputs": [],
   "source": [
    "%%fsql\n",
    "\n",
    "SELECT o.user_id, o.order_date, c.first_name, c.last_name FROM df_orders AS o\n",
    "JOIN df_customers AS c\n",
    "ON o.user_id = c.id\n",
    "YIELD DATAFRAME AS df1\n",
    "\n",
    "PRINT"
   ]
  },
  {
   "cell_type": "markdown",
   "metadata": {},
   "source": [
    "Now we can write a python function that we can use with fugue in SQL. For that we have to define the schema first. Here we will use everything so we will use the ```*``` to select all columns. The schema is defined with a comment before the function."
   ]
  },
  {
   "cell_type": "code",
   "execution_count": null,
   "metadata": {},
   "outputs": [],
   "source": [
    "#schema: *\n",
    "def get_latest_order_date_per_customer(df: pd.DataFrame) -> pd.DataFrame:\n",
    "    return df.sort_values('order_date', ascending=False).groupby('user_id').first().reset_index()"
   ]
  },
  {
   "cell_type": "code",
   "execution_count": null,
   "metadata": {},
   "outputs": [],
   "source": [
    "%%fsql duck\n",
    "\n",
    "df2 = TRANSFORM df1 USING get_latest_order_date_per_customer\n",
    "YIELD DATAFRAME AS df2\n",
    "PRINT"
   ]
  },
  {
   "cell_type": "markdown",
   "metadata": {},
   "source": [
    "This Dataframe ```df2``` can than also be used again as a pandas DataFrame:"
   ]
  },
  {
   "cell_type": "code",
   "execution_count": null,
   "metadata": {},
   "outputs": [],
   "source": [
    "df2.head(5)"
   ]
  },
  {
   "cell_type": "markdown",
   "metadata": {},
   "source": [
    "Now you can try and answer the next questions as an exercise:\n",
    "\n",
    "-  How much did they spend?"
   ]
  },
  {
   "cell_type": "code",
   "execution_count": null,
   "metadata": {},
   "outputs": [],
   "source": [
    "%%fsql\n"
   ]
  },
  {
   "cell_type": "markdown",
   "metadata": {},
   "source": [
    "- What is the most common payment method?"
   ]
  },
  {
   "cell_type": "code",
   "execution_count": null,
   "metadata": {},
   "outputs": [],
   "source": [
    "%%fsql"
   ]
  },
  {
   "cell_type": "markdown",
   "metadata": {},
   "source": [
    "- Create a table that includes the aggregated data from the questions above!"
   ]
  },
  {
   "cell_type": "code",
   "execution_count": null,
   "metadata": {},
   "outputs": [],
   "source": [
    "%%fsql"
   ]
  }
 ],
 "metadata": {
  "kernelspec": {
   "display_name": "Python 3.10.3 64-bit ('3.10.3')",
   "language": "python",
   "name": "python3"
  },
  "language_info": {
   "codemirror_mode": {
    "name": "ipython",
    "version": 3
   },
   "file_extension": ".py",
   "mimetype": "text/x-python",
   "name": "python",
   "nbconvert_exporter": "python",
   "pygments_lexer": "ipython3",
   "version": "3.11.3"
  },
  "orig_nbformat": 4,
  "vscode": {
   "interpreter": {
    "hash": "acb89e642cd2cd6c1dc061b354ab19b4cee33abd1eb266de0681fafafaae361f"
   }
  }
 },
 "nbformat": 4,
 "nbformat_minor": 2
}
